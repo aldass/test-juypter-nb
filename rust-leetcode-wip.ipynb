{
 "cells": [
  {
   "cell_type": "markdown",
   "metadata": {},
   "source": [
    "### Jupyter Notebook for Rust\n",
    "\n",
    "#### Installation Prerequisites\n",
    "\n",
    "1. In VSCode install the *Jupyter* extension (from Microsoft)\n",
    "1. From a terminal install:\n",
    "    1. `cargo install --locked evcxr_jupyter`\n",
    "    1. `evcxr_jupyter --install`\n",
    "1. Quit and restart VSCode\n",
    "1. Create a *Jupyter Notebook* file (with a `.ipynb` extension)\n",
    "1. Select the kernel `Rust (evcxr)` (near upper right corner of the notebook)"
   ]
  },
  {
   "cell_type": "markdown",
   "metadata": {},
   "source": [
    "# LeetCode 93. Restore IP Addresses - Medium\n",
    "\n",
    "A valid IP address consists of exactly four integers separated by single dots. Each integer is between `0` and `255` (inclusive) and cannot have leading zeros.\n",
    "\n",
    "For example, `0.1.2.201` and `192.168.1.1` are **valid** IP addresses, but `0.011.255.245`, `192.168.1.312` and `192.168@1.1` are **invalid** IP addresses.\n",
    "Given a string `s` containing only digits, return all possible valid IP addresses that can be formed by inserting dots into `s`. You are not allowed to reorder or remove any digits in `s`. You may return the valid IP addresses in any order.\n",
    "\n",
    "\n",
    "Example 1:\n",
    "\n",
    "- Input: `s = \"25525511135\"`\n",
    "- Output: `[\"255.255.11.135\",\"255.255.111.35\"]`\n",
    "\n",
    "Example 2:\n",
    "\n",
    "- Input: `s = \"0000\"`\n",
    "- Output: `[\"0.0.0.0\"]`\n",
    "\n",
    "Example 3:\n",
    "\n",
    "- Input: `s = \"101023\"`\n",
    "- Output: `[\"1.0.10.23\",\"1.0.102.3\",\"10.1.0.23\",\"10.10.2.3\",\"101.0.2.3\"]`\n",
    "\n",
    "Constraints:\n",
    "\n",
    "- `1 <= s.length <= 20`\n",
    "- `s` consists of digits only."
   ]
  },
  {
   "cell_type": "code",
   "execution_count": 2,
   "metadata": {},
   "outputs": [
    {
     "name": "stdout",
     "output_type": "stream",
     "text": [
      "================================================================================\n"
     ]
    },
    {
     "name": "stdout",
     "output_type": "stream",
     "text": [
      "[\"255.55.11.135\", \"255.55.111.35\"]\n",
      "--------------------------------------------------------------------------------\n",
      "execution time: 13.6µs\n",
      "--------------------------------------------------------------------------------\n"
     ]
    }
   ],
   "source": [
    "// use std::env;\n",
    "use std::time::{Duration, Instant};\n",
    "\n",
    "pub fn valid_ip_addrs(s: String) -> Vec<String> {\n",
    "    let mut result = Vec::new();\n",
    "    let n = s.len();\n",
    "\n",
    "    // non recursive solution\n",
    "    for i in 1..4 {\n",
    "        for j in i + 1..n - 1 {\n",
    "            for k in j + 1..n {\n",
    "                let a = &s[0..i];\n",
    "                let b = &s[i..j];\n",
    "                let c = &s[j..k];\n",
    "                let d = &s[k..];\n",
    "\n",
    "                if is_valid_segment(a)\n",
    "                    && is_valid_segment(b)\n",
    "                    && is_valid_segment(c)\n",
    "                    && is_valid_segment(d)\n",
    "                {\n",
    "                    let ip_addr = format!(\"{a}.{b}.{c}.{d}\");\n",
    "                    result.push(ip_addr);\n",
    "                }\n",
    "            }\n",
    "        }\n",
    "    }\n",
    "\n",
    "    result\n",
    "}\n",
    "\n",
    "fn is_valid_segment(segment: &str) -> bool {\n",
    "    let num = segment.parse::<u32>().unwrap_or(0);\n",
    "    num <= 255 && (num == 0 || !segment.starts_with('0'))\n",
    "}\n",
    "\n",
    "\n",
    "// let args: Vec<String> = env::args().collect();\n",
    "// let s = &args[1].to_string();\n",
    "let s = \"2555511135\";\n",
    "let start = Instant::now();\n",
    "let result = valid_ip_addrs(s.to_string());\n",
    "let duration = start.elapsed();\n",
    "let str_line_hdr = String::from_utf8(vec![b'='; 80]).unwrap();\n",
    "let str_line_sep = String::from_utf8(vec![b'-'; 80]).unwrap();\n",
    "println!(\"{str_line_hdr}\");\n",
    "println!(\"{:?}\", result);\n",
    "println!(\"{str_line_sep}\");\n",
    "println!(\"execution time: {:?}\", duration);\n",
    "println!(\"{str_line_sep}\");\n"
   ]
  },
  {
   "cell_type": "markdown",
   "metadata": {},
   "source": [
    "### Four 9's Puzzle\n",
    "Given `9 o 9 o 9 o 9 = n` where `o` can be either add(+), subtract(-), multiply(*) or divide(/), solve for the equation where `n` equals 10. Also try for 11."
   ]
  },
  {
   "cell_type": "code",
   "execution_count": 15,
   "metadata": {},
   "outputs": [
    {
     "name": "stdout",
     "output_type": "stream",
     "text": [
      "9 * 9 + 9 / 9 = 10\n",
      "Done!\n"
     ]
    }
   ],
   "source": [
    "use std::io;\n",
    "\n",
    "fn calculate(tokens: Vec<&str>) -> f64 {\n",
    "    let mut result: f64 = match tokens[0].parse() {\n",
    "        Ok(n) => n,\n",
    "        Err(_) => {\n",
    "            panic!(\"Invalid number: {}\", tokens[0]);\n",
    "        }\n",
    "    };\n",
    "\n",
    "    let mut i = 1;\n",
    "    while i < tokens.len() {\n",
    "        let operator = tokens[i];\n",
    "        let num: f64 = match tokens[i + 1].parse() {\n",
    "            Ok(n) => n,\n",
    "            Err(_) => {\n",
    "                panic!(\"Invalid number: {}\", tokens[i + 1]);\n",
    "            }\n",
    "        };\n",
    "\n",
    "        result = match operator {\n",
    "            \"+\" => result + num,\n",
    "            \"-\" => result - num,\n",
    "            \"*\" => result * num,\n",
    "            \"/\" => {\n",
    "                if num == 0.0 {\n",
    "                    panic!(\"Error: Division by zero\");\n",
    "                }\n",
    "                result / num\n",
    "            }\n",
    "            _ => {\n",
    "                panic!(\"Invalid operator: {}\", operator);\n",
    "            }\n",
    "        };\n",
    "\n",
    "        i += 2;\n",
    "    }\n",
    "\n",
    "    result\n",
    "}\n",
    "\n",
    "let opps: [&str; 4] = [\"+\", \"-\", \"*\", \"/\"];\n",
    "\n",
    "for i in 0..=3 {\n",
    "    for j in 0..=3 {\n",
    "        for k in 0..=3 {\n",
    "            let exp = format!(\"9 {} 9 {} 9 {} 9\", opps[i], opps[j], opps[k]);\n",
    "            let calcd_value = calculate(exp.split_whitespace().collect());\n",
    "            if calcd_value == 10.0 {\n",
    "                println!(\"{exp} = {calcd_value}\");\n",
    "            }\n",
    "        }\n",
    "    }\n",
    "}\n",
    "println!(\"Done!\");\n"
   ]
  }
 ],
 "metadata": {
  "kernelspec": {
   "display_name": "Rust",
   "language": "rust",
   "name": "rust"
  },
  "language_info": {
   "codemirror_mode": "rust",
   "file_extension": ".rs",
   "mimetype": "text/rust",
   "name": "rust",
   "pygment_lexer": "rust",
   "version": ""
  }
 },
 "nbformat": 4,
 "nbformat_minor": 2
}
