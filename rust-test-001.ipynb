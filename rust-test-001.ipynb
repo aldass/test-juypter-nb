{
 "cells": [
  {
   "cell_type": "markdown",
   "metadata": {},
   "source": [
    "## Jupyter Notebook Examples for Rust\n",
    "\n",
    "### Installation Prerequisites\n",
    "\n",
    "1. In VSCode install the *Jupyter* extension (from Microsoft)\n",
    "1. From a terminal install:\n",
    "    1. `cargo install --locked evcxr_jupyter`\n",
    "    1. `evcxr_jupyter --install`\n",
    "1. Quit and restart VSCode\n",
    "1. Create a Jupyter notebook file (with a `.ipynb` extension)\n",
    "1. Select the kernel `Rust (evcxr)` (near upper right corner of the notebook)"
   ]
  },
  {
   "cell_type": "code",
   "execution_count": 2,
   "metadata": {
    "vscode": {
     "languageId": "rust"
    }
   },
   "outputs": [
    {
     "data": {
      "text/plain": [
       "Set RUST_BACKTRACE=1 (use :restart command to reload child process)\n",
       "Child process restarted\n"
      ]
     },
     "execution_count": 2,
     "metadata": {},
     "output_type": "execute_result"
    }
   ],
   "source": [
    "// used to display verbose error messages\n",
    ":env RUST_BACKTRACE=1\n",
    ":restart"
   ]
  },
  {
   "cell_type": "markdown",
   "metadata": {},
   "source": [
    "### Calc and display Fibonacci series"
   ]
  },
  {
   "cell_type": "code",
   "execution_count": 3,
   "metadata": {
    "vscode": {
     "languageId": "rust"
    }
   },
   "outputs": [
    {
     "name": "stdout",
     "output_type": "stream",
     "text": [
      "[0, 1, 1, 2, 3, 5, 8, 13, 21, 34, 55, 89, 144, 233, 377, 610, 987, 1597, 2584, 4181]\n",
      "\n",
      "0 + 0 = 0\n",
      "0 + 1 = 1\n",
      "0 + 1 = 1\n",
      "1 + 1 = 2\n",
      "1 + 2 = 3\n",
      "2 + 3 = 5\n",
      "3 + 5 = 8\n",
      "5 + 8 = 13\n",
      "8 + 13 = 21\n",
      "13 + 21 = 34\n",
      "21 + 34 = 55\n",
      "34 + 55 = 89\n",
      "55 + 89 = 144\n",
      "89 + 144 = 233\n",
      "144 + 233 = 377\n",
      "233 + 377 = 610\n",
      "377 + 610 = 987\n",
      "610 + 987 = 1597\n",
      "987 + 1597 = 2584\n",
      "1597 + 2584 = 4181\n"
     ]
    },
    {
     "data": {
      "text/plain": [
       "()"
      ]
     },
     "execution_count": 3,
     "metadata": {},
     "output_type": "execute_result"
    }
   ],
   "source": [
    "let mut fib = vec![0, 1];\n",
    "let mut fib_calc = vec![(0,0,0), (1,0,1)];\n",
    "    \n",
    "while fib.len() < 20 {\n",
    "    let n1 = fib[fib.len() - 2];\n",
    "    let n2 = fib[fib.len() - 1];\n",
    "    let num = n1 + n2;\n",
    "    fib.push(num);\n",
    "    fib_calc.push((num, n1, n2));\n",
    "}\n",
    "println!(\"{:?}\\n\", fib);\n",
    "\n",
    "\n",
    "for fc in fib_calc.iter() {\n",
    "    let (num, n1, n2) = fc;\n",
    "    println!(\"{n1} + {n2} = {num}\");\n",
    "}\n"
   ]
  },
  {
   "cell_type": "markdown",
   "metadata": {},
   "source": [
    "### Add some dependencies"
   ]
  },
  {
   "cell_type": "code",
   "execution_count": 4,
   "metadata": {
    "vscode": {
     "languageId": "rust"
    }
   },
   "outputs": [],
   "source": [
    ":dep image = \"0.23.14\"\n",
    ":dep base64 = \"0.10.1\""
   ]
  },
  {
   "cell_type": "markdown",
   "metadata": {},
   "source": [
    "### Helper impls needed to print inline-images in Jupyter cells"
   ]
  },
  {
   "cell_type": "code",
   "execution_count": 5,
   "metadata": {
    "vscode": {
     "languageId": "rust"
    }
   },
   "outputs": [],
   "source": [
    "extern crate image;\n",
    "extern crate base64;\n",
    "use std::fmt::Debug;\n",
    "\n",
    "pub struct Matrix<T> {pub values: Vec<T>, pub row_size: usize}\n",
    "\n",
    "impl<T: Debug> Matrix<T> {\n",
    "    pub fn evcxr_display(&self) {\n",
    "        let mut html = String::new();\n",
    "        html.push_str(\"<table>\");\n",
    "        for r in 0..(self.values.len() / self.row_size) {\n",
    "            html.push_str(\"<tr>\");\n",
    "            for c in 0..self.row_size {\n",
    "                html.push_str(\"<td>\");\n",
    "                html.push_str(&format!(\"{:?}\", self.values[r * self.row_size + c]));\n",
    "                html.push_str(\"</td>\");\n",
    "            }\n",
    "            html.push_str(\"</tr>\");            \n",
    "        }\n",
    "        html.push_str(\"</table>\");\n",
    "        println!(\"EVCXR_BEGIN_CONTENT text/html\\n{}\\nEVCXR_END_CONTENT\", html);\n",
    "    }\n",
    "}\n",
    "\n",
    "pub trait EvcxrResult {fn evcxr_display(&self);}\n",
    "\n",
    "impl EvcxrResult for image::RgbImage {\n",
    "    fn evcxr_display(&self) {\n",
    "        let mut buffer = Vec::new();\n",
    "        image::png::PngEncoder::new(&mut buffer).encode(&**self, self.width(), self.height(), image::ColorType::Rgb8).unwrap();\n",
    "        let img = base64::encode(&buffer);\n",
    "        println!(\"EVCXR_BEGIN_CONTENT image/png\\n{}\\nEVCXR_END_CONTENT\", img);        \n",
    "    }\n",
    "}\n",
    "\n",
    "impl EvcxrResult for image::GrayImage {\n",
    "    fn evcxr_display(&self) {\n",
    "        let mut buffer = Vec::new();\n",
    "        image::png::PngEncoder::new(&mut buffer).encode(&**self, self.width(), self.height(), image::ColorType::L8).unwrap();        \n",
    "        let img = base64::encode(&buffer);\n",
    "        println!(\"EVCXR_BEGIN_CONTENT image/png\\n{}\\nEVCXR_END_CONTENT\", img);        \n",
    "    }\n",
    "}"
   ]
  },
  {
   "cell_type": "markdown",
   "metadata": {},
   "source": [
    "### Print an inline-image (Diver Down flag) from scratch"
   ]
  },
  {
   "cell_type": "code",
   "execution_count": 6,
   "metadata": {
    "vscode": {
     "languageId": "rust"
    }
   },
   "outputs": [
    {
     "data": {
      "image/png": "[encoded data removed]"
     },
     "execution_count": 6,
     "metadata": {},
     "output_type": "execute_result"
    }
   ],
   "source": [
    "image::ImageBuffer::from_fn(256, 256, |x, y| {\n",
    "    if (x as i32 - y as i32).abs() < 42 {\n",
    "        image::Rgb([255, 255, 255])\n",
    "    } else {\n",
    "        image::Rgb([255, 0, 0])\n",
    "    }\n",
    "\n",
    "})"
   ]
  },
  {
   "cell_type": "markdown",
   "metadata": {},
   "source": [
    "### Display a 3x3 matrix"
   ]
  },
  {
   "cell_type": "code",
   "execution_count": 7,
   "metadata": {
    "vscode": {
     "languageId": "rust"
    }
   },
   "outputs": [
    {
     "data": {
      "text/html": [
       "<table><tr><td>1</td><td>2</td><td>3</td></tr><tr><td>4</td><td>5</td><td>6</td></tr><tr><td>7</td><td>8</td><td>9</td></tr></table>"
      ]
     },
     "execution_count": 7,
     "metadata": {},
     "output_type": "execute_result"
    }
   ],
   "source": [
    "// Display a 3x3 matrix\n",
    "let m3x3 = Matrix {values: vec![1,2,3,4,5,6,7,8,9], row_size: 3};\n",
    "m3x3"
   ]
  },
  {
   "cell_type": "markdown",
   "metadata": {},
   "source": [
    "### Display a 4x4 matrix"
   ]
  },
  {
   "cell_type": "code",
   "execution_count": 8,
   "metadata": {
    "vscode": {
     "languageId": "rust"
    }
   },
   "outputs": [
    {
     "data": {
      "text/html": [
       "<table><tr><td>0</td><td>1</td><td>2</td><td>3</td></tr><tr><td>4</td><td>5</td><td>6</td><td>7</td></tr><tr><td>8</td><td>9</td><td>10</td><td>11</td></tr><tr><td>12</td><td>13</td><td>14</td><td>15</td></tr></table>"
      ]
     },
     "execution_count": 8,
     "metadata": {},
     "output_type": "execute_result"
    }
   ],
   "source": [
    "// Display a 4x4 matrix\n",
    "let m4x4 = Matrix {values: (0..16).collect(), row_size: 4};\n",
    "m4x4"
   ]
  }
 ],
 "metadata": {
  "kernelspec": {
   "display_name": "Rust",
   "language": "rust",
   "name": "rust"
  },
  "language_info": {
   "codemirror_mode": "rust",
   "file_extension": ".rs",
   "mimetype": "text/rust",
   "name": "Rust",
   "pygment_lexer": "rust",
   "version": ""
  }
 },
 "nbformat": 4,
 "nbformat_minor": 2
}
